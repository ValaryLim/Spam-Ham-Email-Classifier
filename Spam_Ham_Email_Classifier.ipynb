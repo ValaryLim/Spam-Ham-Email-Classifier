{
  "nbformat": 4,
  "nbformat_minor": 0,
  "metadata": {
    "colab": {
      "name": "Spam-Ham Email Classifier_Valary Lim.ipynb",
      "version": "0.3.2",
      "provenance": [],
      "collapsed_sections": [],
      "include_colab_link": true
    },
    "kernelspec": {
      "name": "python3",
      "display_name": "Python 3"
    },
    "accelerator": "GPU"
  },
  "cells": [
    {
      "cell_type": "markdown",
      "metadata": {
        "id": "view-in-github",
        "colab_type": "text"
      },
      "source": [
        "<a href=\"https://colab.research.google.com/github/ValaryLim/Spam-Ham-Email-Classifier/blob/master/Spam_Ham_Email_Classifier.ipynb\" target=\"_parent\"><img src=\"https://colab.research.google.com/assets/colab-badge.svg\" alt=\"Open In Colab\"/></a>"
      ]
    },
    {
      "cell_type": "markdown",
      "metadata": {
        "id": "SEmeuyUfaqt3",
        "colab_type": "text"
      },
      "source": [
        "<h1> Spam-Ham Email Classifier </h1>\n",
        "\n",
        "<h2> Importing Packages & Dataset </h2>\n",
        "Dataset was obtained from: https://www.kaggle.com/karthickveerakumar/spam-filter/downloads/spam-filter.zip/1"
      ]
    },
    {
      "cell_type": "code",
      "metadata": {
        "id": "JGlmw_lNajFt",
        "colab_type": "code",
        "outputId": "db999083-6a73-4b94-a307-e2b7bdc87242",
        "colab": {
          "base_uri": "https://localhost:8080/",
          "height": 124
        }
      },
      "source": [
        "# Connect google drive\n",
        "from google.colab import drive\n",
        "drive.mount('/content/drive/')"
      ],
      "execution_count": 0,
      "outputs": [
        {
          "output_type": "stream",
          "text": [
            "Go to this URL in a browser: https://accounts.google.com/o/oauth2/auth?client_id=947318989803-6bn6qk8qdgf4n4g3pfee6491hc0brc4i.apps.googleusercontent.com&redirect_uri=urn%3Aietf%3Awg%3Aoauth%3A2.0%3Aoob&scope=email%20https%3A%2F%2Fwww.googleapis.com%2Fauth%2Fdocs.test%20https%3A%2F%2Fwww.googleapis.com%2Fauth%2Fdrive%20https%3A%2F%2Fwww.googleapis.com%2Fauth%2Fdrive.photos.readonly%20https%3A%2F%2Fwww.googleapis.com%2Fauth%2Fpeopleapi.readonly&response_type=code\n",
            "\n",
            "Enter your authorization code:\n",
            "··········\n",
            "Mounted at /content/drive/\n"
          ],
          "name": "stdout"
        }
      ]
    },
    {
      "cell_type": "code",
      "metadata": {
        "id": "TaKrJOnmiA2v",
        "colab_type": "code",
        "outputId": "9b58b80e-3a9d-46a2-ef5e-8c74bb20ffbd",
        "colab": {
          "base_uri": "https://localhost:8080/",
          "height": 228
        }
      },
      "source": [
        "! pip install glove_python"
      ],
      "execution_count": 0,
      "outputs": [
        {
          "output_type": "stream",
          "text": [
            "Collecting glove_python\n",
            "\u001b[?25l  Downloading https://files.pythonhosted.org/packages/3e/79/7e7e548dd9dcb741935d031117f4bed133276c2a047aadad42f1552d1771/glove_python-0.1.0.tar.gz (263kB)\n",
            "\u001b[K     |████████████████████████████████| 266kB 3.5MB/s \n",
            "\u001b[?25hRequirement already satisfied: numpy in /usr/local/lib/python3.6/dist-packages (from glove_python) (1.16.4)\n",
            "Requirement already satisfied: scipy in /usr/local/lib/python3.6/dist-packages (from glove_python) (1.3.0)\n",
            "Building wheels for collected packages: glove-python\n",
            "  Building wheel for glove-python (setup.py) ... \u001b[?25l\u001b[?25hdone\n",
            "  Stored in directory: /root/.cache/pip/wheels/88/4b/6d/10c0d2ad32c9d9d68beec9694a6f0b6e83ab1662a90a089a4b\n",
            "Successfully built glove-python\n",
            "Installing collected packages: glove-python\n",
            "Successfully installed glove-python-0.1.0\n"
          ],
          "name": "stdout"
        }
      ]
    },
    {
      "cell_type": "code",
      "metadata": {
        "id": "mFiTNjeGapmM",
        "colab_type": "code",
        "colab": {}
      },
      "source": [
        "import os\n",
        "import re\n",
        "import sys\n",
        "import numpy as np\n",
        "import pandas as pd\n",
        "\n",
        "# embedding\n",
        "import glove\n",
        "\n",
        "# train_test_split\n",
        "from sklearn.model_selection import train_test_split\n",
        "\n",
        "import tensorflow as tf\n",
        "\n",
        "from tensorflow.keras.preprocessing.text import Tokenizer\n",
        "from tensorflow.keras.preprocessing.sequence import pad_sequences\n",
        "\n",
        "from tensorflow.keras.utils import to_categorical\n",
        "\n",
        "from tensorflow.keras.layers import Dense, Input, GlobalMaxPooling1D, LSTM\n",
        "from tensorflow.keras.layers import Conv1D, MaxPooling1D, Embedding\n",
        "from tensorflow.keras.models import Model\n",
        "from tensorflow.keras.initializers import Constant\n",
        "\n"
      ],
      "execution_count": 0,
      "outputs": []
    },
    {
      "cell_type": "code",
      "metadata": {
        "id": "E93c9l1tdmyK",
        "colab_type": "code",
        "colab": {}
      },
      "source": [
        "df = pd.read_csv('/content/drive/My Drive/Personal Projects/Deep Learning Jump-Start Workshop/emails.csv')"
      ],
      "execution_count": 0,
      "outputs": []
    },
    {
      "cell_type": "code",
      "metadata": {
        "id": "LCgvUvF7ap2O",
        "colab_type": "code",
        "outputId": "eeb496b0-725b-4a4f-ffbe-050f78dd72b3",
        "colab": {
          "base_uri": "https://localhost:8080/",
          "height": 202
        }
      },
      "source": [
        "df.head()"
      ],
      "execution_count": 0,
      "outputs": [
        {
          "output_type": "execute_result",
          "data": {
            "text/html": [
              "<div>\n",
              "<style scoped>\n",
              "    .dataframe tbody tr th:only-of-type {\n",
              "        vertical-align: middle;\n",
              "    }\n",
              "\n",
              "    .dataframe tbody tr th {\n",
              "        vertical-align: top;\n",
              "    }\n",
              "\n",
              "    .dataframe thead th {\n",
              "        text-align: right;\n",
              "    }\n",
              "</style>\n",
              "<table border=\"1\" class=\"dataframe\">\n",
              "  <thead>\n",
              "    <tr style=\"text-align: right;\">\n",
              "      <th></th>\n",
              "      <th>text</th>\n",
              "      <th>spam</th>\n",
              "    </tr>\n",
              "  </thead>\n",
              "  <tbody>\n",
              "    <tr>\n",
              "      <th>0</th>\n",
              "      <td>Subject: naturally irresistible your corporate...</td>\n",
              "      <td>1</td>\n",
              "    </tr>\n",
              "    <tr>\n",
              "      <th>1</th>\n",
              "      <td>Subject: the stock trading gunslinger  fanny i...</td>\n",
              "      <td>1</td>\n",
              "    </tr>\n",
              "    <tr>\n",
              "      <th>2</th>\n",
              "      <td>Subject: unbelievable new homes made easy  im ...</td>\n",
              "      <td>1</td>\n",
              "    </tr>\n",
              "    <tr>\n",
              "      <th>3</th>\n",
              "      <td>Subject: 4 color printing special  request add...</td>\n",
              "      <td>1</td>\n",
              "    </tr>\n",
              "    <tr>\n",
              "      <th>4</th>\n",
              "      <td>Subject: do not have money , get software cds ...</td>\n",
              "      <td>1</td>\n",
              "    </tr>\n",
              "  </tbody>\n",
              "</table>\n",
              "</div>"
            ],
            "text/plain": [
              "                                                text  spam\n",
              "0  Subject: naturally irresistible your corporate...     1\n",
              "1  Subject: the stock trading gunslinger  fanny i...     1\n",
              "2  Subject: unbelievable new homes made easy  im ...     1\n",
              "3  Subject: 4 color printing special  request add...     1\n",
              "4  Subject: do not have money , get software cds ...     1"
            ]
          },
          "metadata": {
            "tags": []
          },
          "execution_count": 5
        }
      ]
    },
    {
      "cell_type": "markdown",
      "metadata": {
        "id": "t6CtVbujiOJ9",
        "colab_type": "text"
      },
      "source": [
        "<h2> Embedding </h2>\n",
        "\n",
        "<h3> Loading a pre-train word embedding </h3>\n",
        "Loading a pre-trained word embedding from http://nlp.stanford.edu/projects/glove/, created from a 6 billion tokens corpus, with results as 50d vectors."
      ]
    },
    {
      "cell_type": "code",
      "metadata": {
        "id": "_xVfhr5-ap5O",
        "colab_type": "code",
        "outputId": "882215b0-e261-45a9-f450-4b15bac13418",
        "colab": {
          "base_uri": "https://localhost:8080/",
          "height": 52
        }
      },
      "source": [
        "!wget -qq https://www.dropbox.com/s/v14xhvjmfniraf3/glove6b100dtxt.zip\n",
        "# !wget -qq http://nlp.stanford.edu/data/glove.6B.zip\n",
        "  \n",
        "!unzip glove6b100dtxt.zip"
      ],
      "execution_count": 0,
      "outputs": [
        {
          "output_type": "stream",
          "text": [
            "Archive:  glove6b100dtxt.zip\n",
            "replace glove.6B.100d.txt? [y]es, [n]o, [A]ll, [N]one, [r]ename: "
          ],
          "name": "stdout"
        }
      ]
    },
    {
      "cell_type": "markdown",
      "metadata": {
        "id": "LcdTykNXkWU8",
        "colab_type": "text"
      },
      "source": [
        "<h3> Build index mapping words in the embedding set to their embedding vector </h3>"
      ]
    },
    {
      "cell_type": "code",
      "metadata": {
        "id": "ey-v3eMpj-Db",
        "colab_type": "code",
        "outputId": "713cac11-a647-46f3-f5bc-07fdd646d1bf",
        "colab": {
          "base_uri": "https://localhost:8080/",
          "height": 35
        }
      },
      "source": [
        "embeddings_index = {}\n",
        "\n",
        "with open(os.path.join('', 'glove.6B.100d.txt')) as f:\n",
        "    for line in f:\n",
        "        values = line.split()\n",
        "        word = values[0]\n",
        "        coefs = np.asarray(values[1:], dtype='float32')\n",
        "        embeddings_index[word] = coefs\n",
        "\n",
        "# Get length of word vectors\n",
        "print('Found %s word vectors.' % len(embeddings_index))"
      ],
      "execution_count": 0,
      "outputs": [
        {
          "output_type": "stream",
          "text": [
            "Found 400000 word vectors.\n"
          ],
          "name": "stdout"
        }
      ]
    },
    {
      "cell_type": "code",
      "metadata": {
        "id": "Odl0-b9Ej8py",
        "colab_type": "code",
        "outputId": "f840af43-fc64-4785-9919-4eb9a55b864c",
        "colab": {
          "base_uri": "https://localhost:8080/",
          "height": 312
        }
      },
      "source": [
        "# Example glove embedding\n",
        "embeddings_index['spam']"
      ],
      "execution_count": 0,
      "outputs": [
        {
          "output_type": "execute_result",
          "data": {
            "text/plain": [
              "array([-0.32896 ,  0.4371  , -0.1109  , -1.3661  , -0.070062,  1.0553  ,\n",
              "        0.11511 , -1.5601  ,  0.52192 ,  0.13506 ,  0.39288 , -0.4516  ,\n",
              "       -0.67174 , -0.33007 , -0.28505 ,  0.2817  ,  0.10494 , -0.14796 ,\n",
              "        0.49491 , -0.10761 , -0.2568  ,  0.049184,  0.80427 ,  0.53083 ,\n",
              "        0.04467 ,  0.83403 ,  0.30387 ,  0.84311 , -0.36066 , -1.1358  ,\n",
              "        0.61644 ,  0.85332 ,  0.74056 ,  0.32785 ,  0.36279 , -0.055806,\n",
              "       -0.63322 , -0.6299  ,  0.21147 ,  0.060588,  0.26387 , -0.022226,\n",
              "       -0.95656 , -0.71311 ,  0.1739  ,  0.11947 , -0.7337  , -0.49539 ,\n",
              "        0.17028 , -0.1535  ,  0.87158 ,  1.0749  , -0.33695 , -0.28382 ,\n",
              "       -1.6008  , -0.092306,  0.38466 , -0.29229 ,  0.97992 ,  0.063228,\n",
              "       -0.44015 , -0.080327, -0.2629  , -0.51111 ,  0.15873 ,  0.80866 ,\n",
              "        0.31916 ,  0.15911 ,  1.1527  , -0.3635  , -0.22589 , -0.83732 ,\n",
              "        0.57972 ,  0.35771 , -0.22302 , -0.026206, -0.55764 , -0.37955 ,\n",
              "       -0.55529 ,  0.2698  ,  0.75772 , -1.0138  , -0.76951 , -0.20001 ,\n",
              "       -1.4422  ,  0.33639 ,  0.48054 , -0.93156 , -0.5695  , -0.11344 ,\n",
              "       -0.27219 ,  0.7677  , -0.11231 ,  0.051634,  0.53608 , -0.77647 ,\n",
              "       -0.037035, -0.31075 , -0.1426  ,  0.19792 ], dtype=float32)"
            ]
          },
          "metadata": {
            "tags": []
          },
          "execution_count": 8
        }
      ]
    },
    {
      "cell_type": "markdown",
      "metadata": {
        "id": "8__-yik5lHM-",
        "colab_type": "text"
      },
      "source": [
        "<h2> Processing Text Dataset </h2>\n",
        "\n",
        "<h3> Clean the data </h3>"
      ]
    },
    {
      "cell_type": "code",
      "metadata": {
        "id": "LJ4wvJtpnftN",
        "colab_type": "code",
        "outputId": "ba103ffb-5977-4cf3-f6fd-42c49fa9806b",
        "colab": {
          "base_uri": "https://localhost:8080/",
          "height": 202
        }
      },
      "source": [
        "# Viewing the data\n",
        "df.head()"
      ],
      "execution_count": 0,
      "outputs": [
        {
          "output_type": "execute_result",
          "data": {
            "text/html": [
              "<div>\n",
              "<style scoped>\n",
              "    .dataframe tbody tr th:only-of-type {\n",
              "        vertical-align: middle;\n",
              "    }\n",
              "\n",
              "    .dataframe tbody tr th {\n",
              "        vertical-align: top;\n",
              "    }\n",
              "\n",
              "    .dataframe thead th {\n",
              "        text-align: right;\n",
              "    }\n",
              "</style>\n",
              "<table border=\"1\" class=\"dataframe\">\n",
              "  <thead>\n",
              "    <tr style=\"text-align: right;\">\n",
              "      <th></th>\n",
              "      <th>text</th>\n",
              "      <th>spam</th>\n",
              "    </tr>\n",
              "  </thead>\n",
              "  <tbody>\n",
              "    <tr>\n",
              "      <th>0</th>\n",
              "      <td>Subject: naturally irresistible your corporate...</td>\n",
              "      <td>1</td>\n",
              "    </tr>\n",
              "    <tr>\n",
              "      <th>1</th>\n",
              "      <td>Subject: the stock trading gunslinger  fanny i...</td>\n",
              "      <td>1</td>\n",
              "    </tr>\n",
              "    <tr>\n",
              "      <th>2</th>\n",
              "      <td>Subject: unbelievable new homes made easy  im ...</td>\n",
              "      <td>1</td>\n",
              "    </tr>\n",
              "    <tr>\n",
              "      <th>3</th>\n",
              "      <td>Subject: 4 color printing special  request add...</td>\n",
              "      <td>1</td>\n",
              "    </tr>\n",
              "    <tr>\n",
              "      <th>4</th>\n",
              "      <td>Subject: do not have money , get software cds ...</td>\n",
              "      <td>1</td>\n",
              "    </tr>\n",
              "  </tbody>\n",
              "</table>\n",
              "</div>"
            ],
            "text/plain": [
              "                                                text  spam\n",
              "0  Subject: naturally irresistible your corporate...     1\n",
              "1  Subject: the stock trading gunslinger  fanny i...     1\n",
              "2  Subject: unbelievable new homes made easy  im ...     1\n",
              "3  Subject: 4 color printing special  request add...     1\n",
              "4  Subject: do not have money , get software cds ...     1"
            ]
          },
          "metadata": {
            "tags": []
          },
          "execution_count": 9
        }
      ]
    },
    {
      "cell_type": "code",
      "metadata": {
        "id": "AhZd4Pj5n8-c",
        "colab_type": "code",
        "colab": {}
      },
      "source": [
        "# Change all text to lowercase\n",
        "df['text'] = [entry.lower() for entry in df['text']]"
      ],
      "execution_count": 0,
      "outputs": []
    },
    {
      "cell_type": "code",
      "metadata": {
        "id": "Xd3r2YeBvfDn",
        "colab_type": "code",
        "colab": {}
      },
      "source": [
        "# Remove numbers\n",
        "df['text'] = [''.join([i for i in s if not i.isdigit()]) for s in df['text']]"
      ],
      "execution_count": 0,
      "outputs": []
    },
    {
      "cell_type": "code",
      "metadata": {
        "id": "JLC6EYglyj0Y",
        "colab_type": "code",
        "colab": {}
      },
      "source": [
        "# Remove punctuation\n",
        "df['text'] = [re.sub(r'[^\\w\\s]','', entry) for entry in df['text']]"
      ],
      "execution_count": 0,
      "outputs": []
    },
    {
      "cell_type": "code",
      "metadata": {
        "id": "0PzlUVJE1iTs",
        "colab_type": "code",
        "colab": {}
      },
      "source": [
        "# Remove extra spaces\n",
        "df['text'] = [re.sub(' +', ' ', entry) for entry in df['text']]"
      ],
      "execution_count": 0,
      "outputs": []
    },
    {
      "cell_type": "code",
      "metadata": {
        "id": "3Ba7o0J7tv6j",
        "colab_type": "code",
        "outputId": "a7cf781e-ab1a-4ea3-97d6-9e8c0bf9530b",
        "colab": {
          "base_uri": "https://localhost:8080/",
          "height": 202
        }
      },
      "source": [
        "df.head()"
      ],
      "execution_count": 0,
      "outputs": [
        {
          "output_type": "execute_result",
          "data": {
            "text/html": [
              "<div>\n",
              "<style scoped>\n",
              "    .dataframe tbody tr th:only-of-type {\n",
              "        vertical-align: middle;\n",
              "    }\n",
              "\n",
              "    .dataframe tbody tr th {\n",
              "        vertical-align: top;\n",
              "    }\n",
              "\n",
              "    .dataframe thead th {\n",
              "        text-align: right;\n",
              "    }\n",
              "</style>\n",
              "<table border=\"1\" class=\"dataframe\">\n",
              "  <thead>\n",
              "    <tr style=\"text-align: right;\">\n",
              "      <th></th>\n",
              "      <th>text</th>\n",
              "      <th>spam</th>\n",
              "    </tr>\n",
              "  </thead>\n",
              "  <tbody>\n",
              "    <tr>\n",
              "      <th>0</th>\n",
              "      <td>subject naturally irresistible your corporate ...</td>\n",
              "      <td>1</td>\n",
              "    </tr>\n",
              "    <tr>\n",
              "      <th>1</th>\n",
              "      <td>subject the stock trading gunslinger fanny is ...</td>\n",
              "      <td>1</td>\n",
              "    </tr>\n",
              "    <tr>\n",
              "      <th>2</th>\n",
              "      <td>subject unbelievable new homes made easy im wa...</td>\n",
              "      <td>1</td>\n",
              "    </tr>\n",
              "    <tr>\n",
              "      <th>3</th>\n",
              "      <td>subject color printing special request additio...</td>\n",
              "      <td>1</td>\n",
              "    </tr>\n",
              "    <tr>\n",
              "      <th>4</th>\n",
              "      <td>subject do not have money get software cds fro...</td>\n",
              "      <td>1</td>\n",
              "    </tr>\n",
              "  </tbody>\n",
              "</table>\n",
              "</div>"
            ],
            "text/plain": [
              "                                                text  spam\n",
              "0  subject naturally irresistible your corporate ...     1\n",
              "1  subject the stock trading gunslinger fanny is ...     1\n",
              "2  subject unbelievable new homes made easy im wa...     1\n",
              "3  subject color printing special request additio...     1\n",
              "4  subject do not have money get software cds fro...     1"
            ]
          },
          "metadata": {
            "tags": []
          },
          "execution_count": 14
        }
      ]
    },
    {
      "cell_type": "code",
      "metadata": {
        "id": "UW0V9kQKnqoA",
        "colab_type": "code",
        "outputId": "70cb51a3-0472-4bfb-e75b-5bc067692cb2",
        "colab": {
          "base_uri": "https://localhost:8080/",
          "height": 121
        }
      },
      "source": [
        "texts = df['text']\n",
        "texts.head()"
      ],
      "execution_count": 0,
      "outputs": [
        {
          "output_type": "execute_result",
          "data": {
            "text/plain": [
              "0    subject naturally irresistible your corporate ...\n",
              "1    subject the stock trading gunslinger fanny is ...\n",
              "2    subject unbelievable new homes made easy im wa...\n",
              "3    subject color printing special request additio...\n",
              "4    subject do not have money get software cds fro...\n",
              "Name: text, dtype: object"
            ]
          },
          "metadata": {
            "tags": []
          },
          "execution_count": 15
        }
      ]
    },
    {
      "cell_type": "markdown",
      "metadata": {
        "id": "HybaE1Es28sU",
        "colab_type": "text"
      },
      "source": [
        "<h3> Vectorize the words to run through model </h3>"
      ]
    },
    {
      "cell_type": "code",
      "metadata": {
        "id": "cyIbsuzzrgKJ",
        "colab_type": "code",
        "outputId": "34c7fdfa-05f0-402e-863d-e0c30517b41a",
        "colab": {
          "base_uri": "https://localhost:8080/",
          "height": 35
        }
      },
      "source": [
        "# Limiting the number of words to 20000 so model trains faster\n",
        "MAX_NUM_WORDS = 20000\n",
        "\n",
        "# Vectorize the text samples into a 2D integer tensor\n",
        "tokenizer = Tokenizer(num_words=MAX_NUM_WORDS)\n",
        "tokenizer.fit_on_texts(texts)\n",
        "sequences = tokenizer.texts_to_sequences(texts)\n",
        "\n",
        "word_index = tokenizer.word_index\n",
        "print('Found %s unique tokens.' % len(word_index))"
      ],
      "execution_count": 0,
      "outputs": [
        {
          "output_type": "stream",
          "text": [
            "Found 33741 unique tokens.\n"
          ],
          "name": "stdout"
        }
      ]
    },
    {
      "cell_type": "code",
      "metadata": {
        "id": "qDHuR-f-rtyU",
        "colab_type": "code",
        "outputId": "9d6ab90e-cf81-4c8f-a03e-b07563144ebd",
        "colab": {
          "base_uri": "https://localhost:8080/",
          "height": 17368
        }
      },
      "source": [
        "# Viewing the word index\n",
        "word_index"
      ],
      "execution_count": 0,
      "outputs": [
        {
          "output_type": "execute_result",
          "data": {
            "text/plain": [
              "{'the': 1,\n",
              " 'to': 2,\n",
              " 'and': 3,\n",
              " 'of': 4,\n",
              " 'a': 5,\n",
              " 'you': 6,\n",
              " 'in': 7,\n",
              " 'i': 8,\n",
              " 'for': 9,\n",
              " 'enron': 10,\n",
              " 'on': 11,\n",
              " 'is': 12,\n",
              " 'ect': 13,\n",
              " 'subject': 14,\n",
              " 'this': 15,\n",
              " 'that': 16,\n",
              " 'your': 17,\n",
              " 'be': 18,\n",
              " 'with': 19,\n",
              " 'we': 20,\n",
              " 'vince': 21,\n",
              " 'will': 22,\n",
              " 'have': 23,\n",
              " 'at': 24,\n",
              " 'from': 25,\n",
              " 'it': 26,\n",
              " 'are': 27,\n",
              " 's': 28,\n",
              " 'as': 29,\n",
              " 'hou': 30,\n",
              " 'by': 31,\n",
              " 'com': 32,\n",
              " 'or': 33,\n",
              " 'if': 34,\n",
              " 'am': 35,\n",
              " 'please': 36,\n",
              " 'kaminski': 37,\n",
              " 'not': 38,\n",
              " 'would': 39,\n",
              " 'me': 40,\n",
              " 'our': 41,\n",
              " 'can': 42,\n",
              " 're': 43,\n",
              " 'cc': 44,\n",
              " 'j': 45,\n",
              " 'my': 46,\n",
              " 'an': 47,\n",
              " 'pm': 48,\n",
              " 'all': 49,\n",
              " 'any': 50,\n",
              " 'time': 51,\n",
              " 'research': 52,\n",
              " 'has': 53,\n",
              " 'do': 54,\n",
              " 'thanks': 55,\n",
              " 'know': 56,\n",
              " 'may': 57,\n",
              " 'about': 58,\n",
              " 'group': 59,\n",
              " 'information': 60,\n",
              " 'was': 61,\n",
              " 'new': 62,\n",
              " 'he': 63,\n",
              " 'e': 64,\n",
              " 'energy': 65,\n",
              " 'like': 66,\n",
              " 'more': 67,\n",
              " 'risk': 68,\n",
              " 'but': 69,\n",
              " 'one': 70,\n",
              " 'business': 71,\n",
              " 'get': 72,\n",
              " 'power': 73,\n",
              " 'email': 74,\n",
              " 'let': 75,\n",
              " 'up': 76,\n",
              " 'us': 77,\n",
              " 'so': 78,\n",
              " 'also': 79,\n",
              " 'what': 80,\n",
              " 'message': 81,\n",
              " 'mail': 82,\n",
              " 'need': 83,\n",
              " 'meeting': 84,\n",
              " 'here': 85,\n",
              " 'some': 86,\n",
              " 'which': 87,\n",
              " 't': 88,\n",
              " 'corp': 89,\n",
              " 'there': 90,\n",
              " 'company': 91,\n",
              " 'shirley': 92,\n",
              " 'out': 93,\n",
              " 'they': 94,\n",
              " 'edu': 95,\n",
              " 'very': 96,\n",
              " 'http': 97,\n",
              " 'no': 98,\n",
              " 'been': 99,\n",
              " 'houston': 100,\n",
              " 'forward': 101,\n",
              " 'management': 102,\n",
              " 'market': 103,\n",
              " 'work': 104,\n",
              " 'other': 105,\n",
              " 'forwarded': 106,\n",
              " 'these': 107,\n",
              " 'm': 108,\n",
              " 'make': 109,\n",
              " 'should': 110,\n",
              " 'see': 111,\n",
              " 'could': 112,\n",
              " 'call': 113,\n",
              " 'just': 114,\n",
              " 'th': 115,\n",
              " 'his': 116,\n",
              " 'their': 117,\n",
              " 'price': 118,\n",
              " 'www': 119,\n",
              " 'model': 120,\n",
              " 'now': 121,\n",
              " 'regards': 122,\n",
              " 'best': 123,\n",
              " 'how': 124,\n",
              " 'who': 125,\n",
              " 'contact': 126,\n",
              " 'year': 127,\n",
              " 'only': 128,\n",
              " 'week': 129,\n",
              " 'day': 130,\n",
              " 'development': 131,\n",
              " 'conference': 132,\n",
              " 'help': 133,\n",
              " 'when': 134,\n",
              " 'next': 135,\n",
              " 'look': 136,\n",
              " 'over': 137,\n",
              " 'program': 138,\n",
              " 'free': 139,\n",
              " 'thank': 140,\n",
              " 'sent': 141,\n",
              " 'crenshaw': 142,\n",
              " 'its': 143,\n",
              " 'send': 144,\n",
              " 'use': 145,\n",
              " 'communications': 146,\n",
              " 'well': 147,\n",
              " 'project': 148,\n",
              " 'good': 149,\n",
              " 'gas': 150,\n",
              " 'list': 151,\n",
              " 'stinson': 152,\n",
              " 'him': 153,\n",
              " 'john': 154,\n",
              " 'want': 155,\n",
              " 'think': 156,\n",
              " 'university': 157,\n",
              " 'finance': 158,\n",
              " 'fax': 159,\n",
              " 'available': 160,\n",
              " 'd': 161,\n",
              " 'take': 162,\n",
              " 'following': 163,\n",
              " 'into': 164,\n",
              " 'phone': 165,\n",
              " 'had': 166,\n",
              " 'last': 167,\n",
              " 'data': 168,\n",
              " 'people': 169,\n",
              " 'them': 170,\n",
              " 'trading': 171,\n",
              " 'interview': 172,\n",
              " 'credit': 173,\n",
              " 'visit': 174,\n",
              " 'p': 175,\n",
              " 'number': 176,\n",
              " 'first': 177,\n",
              " 'attached': 178,\n",
              " 'two': 179,\n",
              " 'request': 180,\n",
              " 'order': 181,\n",
              " 'than': 182,\n",
              " 'options': 183,\n",
              " 'through': 184,\n",
              " 'shall': 185,\n",
              " 'questions': 186,\n",
              " 'interested': 187,\n",
              " 'date': 188,\n",
              " 'office': 189,\n",
              " 'x': 190,\n",
              " 'address': 191,\n",
              " 'presentation': 192,\n",
              " 'financial': 193,\n",
              " 'ees': 194,\n",
              " 'much': 195,\n",
              " 'resume': 196,\n",
              " 'back': 197,\n",
              " 'london': 198,\n",
              " 'rice': 199,\n",
              " 'team': 200,\n",
              " 'dear': 201,\n",
              " 'below': 202,\n",
              " 'friday': 203,\n",
              " 'give': 204,\n",
              " 'hi': 205,\n",
              " 'today': 206,\n",
              " 'name': 207,\n",
              " 'after': 208,\n",
              " 'report': 209,\n",
              " 'services': 210,\n",
              " 'working': 211,\n",
              " 'go': 212,\n",
              " 'lon': 213,\n",
              " 'prices': 214,\n",
              " 'money': 215,\n",
              " 'system': 216,\n",
              " 'such': 217,\n",
              " 'way': 218,\n",
              " 'provide': 219,\n",
              " 'were': 220,\n",
              " 'markets': 221,\n",
              " 'many': 222,\n",
              " 'll': 223,\n",
              " 'then': 224,\n",
              " 'find': 225,\n",
              " 'received': 226,\n",
              " 'site': 227,\n",
              " 'software': 228,\n",
              " 'within': 229,\n",
              " 'state': 230,\n",
              " 'click': 231,\n",
              " 'access': 232,\n",
              " 'process': 233,\n",
              " 'great': 234,\n",
              " 'before': 235,\n",
              " 'review': 236,\n",
              " 'few': 237,\n",
              " 'hope': 238,\n",
              " 'most': 239,\n",
              " 'both': 240,\n",
              " 'again': 241,\n",
              " 'based': 242,\n",
              " 'april': 243,\n",
              " 'offer': 244,\n",
              " 'original': 245,\n",
              " 'don': 246,\n",
              " 'support': 247,\n",
              " 'regarding': 248,\n",
              " 'web': 249,\n",
              " 'days': 250,\n",
              " 'doc': 251,\n",
              " 'interest': 252,\n",
              " 'kevin': 253,\n",
              " 'c': 254,\n",
              " 'website': 255,\n",
              " 'real': 256,\n",
              " 'schedule': 257,\n",
              " 'monday': 258,\n",
              " 'per': 259,\n",
              " 'each': 260,\n",
              " 'home': 261,\n",
              " 'years': 262,\n",
              " 'gibner': 263,\n",
              " 'future': 264,\n",
              " 'looking': 265,\n",
              " 'summer': 266,\n",
              " 'director': 267,\n",
              " 'na': 268,\n",
              " 'made': 269,\n",
              " 'internet': 270,\n",
              " 'mr': 271,\n",
              " 'meet': 272,\n",
              " 'b': 273,\n",
              " 'school': 274,\n",
              " 'industry': 275,\n",
              " 'cost': 276,\n",
              " 'companies': 277,\n",
              " 'position': 278,\n",
              " 'able': 279,\n",
              " 'where': 280,\n",
              " 'opportunity': 281,\n",
              " 'department': 282,\n",
              " 'possible': 283,\n",
              " 'set': 284,\n",
              " 'stanford': 285,\n",
              " 'might': 286,\n",
              " 'receive': 287,\n",
              " 'because': 288,\n",
              " 'morning': 289,\n",
              " 'value': 290,\n",
              " 'thursday': 291,\n",
              " 'using': 292,\n",
              " 'end': 293,\n",
              " 'option': 294,\n",
              " 'talk': 295,\n",
              " 'l': 296,\n",
              " 'right': 297,\n",
              " 'book': 298,\n",
              " 'mark': 299,\n",
              " 'current': 300,\n",
              " 'does': 301,\n",
              " 'weather': 302,\n",
              " 'under': 303,\n",
              " 'pricing': 304,\n",
              " 'her': 305,\n",
              " 'going': 306,\n",
              " 'products': 307,\n",
              " 'service': 308,\n",
              " 'net': 309,\n",
              " 'however': 310,\n",
              " 'term': 311,\n",
              " 'said': 312,\n",
              " 'copy': 313,\n",
              " 'form': 314,\n",
              " 'hello': 315,\n",
              " 'start': 316,\n",
              " 'account': 317,\n",
              " 'course': 318,\n",
              " 'long': 319,\n",
              " 'discuss': 320,\n",
              " 'investment': 321,\n",
              " 'r': 322,\n",
              " 'still': 323,\n",
              " 'between': 324,\n",
              " 'zimin': 325,\n",
              " 'online': 326,\n",
              " 'since': 327,\n",
              " 'derivatives': 328,\n",
              " 'part': 329,\n",
              " 'mike': 330,\n",
              " 'var': 331,\n",
              " 'wharton': 332,\n",
              " 'during': 333,\n",
              " 'g': 334,\n",
              " 'david': 335,\n",
              " 'steve': 336,\n",
              " 'come': 337,\n",
              " 'grant': 338,\n",
              " 'analysis': 339,\n",
              " 'soon': 340,\n",
              " 'feel': 341,\n",
              " 'case': 342,\n",
              " 'currently': 343,\n",
              " 'sure': 344,\n",
              " 'she': 345,\n",
              " 'feedback': 346,\n",
              " 'martin': 347,\n",
              " 'high': 348,\n",
              " 'adobe': 349,\n",
              " 'o': 350,\n",
              " 'while': 351,\n",
              " 'tuesday': 352,\n",
              " 'those': 353,\n",
              " 'further': 354,\n",
              " 'full': 355,\n",
              " 'additional': 356,\n",
              " 'details': 357,\n",
              " 'version': 358,\n",
              " 'paper': 359,\n",
              " 'dr': 360,\n",
              " 'models': 361,\n",
              " 'world': 362,\n",
              " 'security': 363,\n",
              " 'u': 364,\n",
              " 'did': 365,\n",
              " 'wednesday': 366,\n",
              " 'comments': 367,\n",
              " 'issues': 368,\n",
              " 'students': 369,\n",
              " 'july': 370,\n",
              " 'given': 371,\n",
              " 'co': 372,\n",
              " 'same': 373,\n",
              " 'including': 374,\n",
              " 'march': 375,\n",
              " 'december': 376,\n",
              " 'inc': 377,\n",
              " 'already': 378,\n",
              " 'california': 379,\n",
              " 'uk': 380,\n",
              " 'jeff': 381,\n",
              " 'off': 382,\n",
              " 'plan': 383,\n",
              " 'technology': 384,\n",
              " 'note': 385,\n",
              " 'changes': 386,\n",
              " 'include': 387,\n",
              " 'info': 388,\n",
              " 'together': 389,\n",
              " 'person': 390,\n",
              " 'electricity': 391,\n",
              " 'vasant': 392,\n",
              " 'another': 393,\n",
              " 'etc': 394,\n",
              " 'even': 395,\n",
              " 'weeks': 396,\n",
              " 'being': 397,\n",
              " 'tanya': 398,\n",
              " 'global': 399,\n",
              " 've': 400,\n",
              " 'due': 401,\n",
              " 'change': 402,\n",
              " 'ask': 403,\n",
              " 'sincerely': 404,\n",
              " 'used': 405,\n",
              " 'marketing': 406,\n",
              " 'month': 407,\n",
              " 'performance': 408,\n",
              " 'really': 409,\n",
              " 'president': 410,\n",
              " 'html': 411,\n",
              " 'id': 412,\n",
              " 'results': 413,\n",
              " 'iris': 414,\n",
              " 'government': 415,\n",
              " 'file': 416,\n",
              " 'problem': 417,\n",
              " 'w': 418,\n",
              " 'christie': 419,\n",
              " 'associate': 420,\n",
              " 'million': 421,\n",
              " 'manager': 422,\n",
              " 'texas': 423,\n",
              " 'north': 424,\n",
              " 'life': 425,\n",
              " 'issue': 426,\n",
              " 'news': 427,\n",
              " 'above': 428,\n",
              " 'dpc': 429,\n",
              " 'dinner': 430,\n",
              " 'different': 431,\n",
              " 'several': 432,\n",
              " 'oil': 433,\n",
              " 'check': 434,\n",
              " 'important': 435,\n",
              " 'rate': 436,\n",
              " 'happy': 437,\n",
              " 'without': 438,\n",
              " 'professor': 439,\n",
              " 'appreciate': 440,\n",
              " 'curve': 441,\n",
              " 'type': 442,\n",
              " 'center': 443,\n",
              " 'put': 444,\n",
              " 'better': 445,\n",
              " 'decision': 446,\n",
              " 'must': 447,\n",
              " 'job': 448,\n",
              " 'product': 449,\n",
              " 'line': 450,\n",
              " 'months': 451,\n",
              " 'short': 452,\n",
              " 'update': 453,\n",
              " 'three': 454,\n",
              " 'agreement': 455,\n",
              " 'managing': 456,\n",
              " 'stock': 457,\n",
              " 'believe': 458,\n",
              " 'anjam': 459,\n",
              " 'lunch': 460,\n",
              " 'june': 461,\n",
              " 'experience': 462,\n",
              " 'attend': 463,\n",
              " 'reply': 464,\n",
              " 'engineering': 465,\n",
              " 'total': 466,\n",
              " 'buy': 467,\n",
              " 'members': 468,\n",
              " 'corporate': 469,\n",
              " 'v': 470,\n",
              " 'place': 471,\n",
              " 'deal': 472,\n",
              " 'try': 473,\n",
              " 'resources': 474,\n",
              " 'too': 475,\n",
              " 'move': 476,\n",
              " 'cera': 477,\n",
              " 'follow': 478,\n",
              " 'technical': 479,\n",
              " 'tx': 480,\n",
              " 'projects': 481,\n",
              " 'baylor': 482,\n",
              " 'user': 483,\n",
              " 'special': 484,\n",
              " 'michael': 485,\n",
              " 'things': 486,\n",
              " 'customer': 487,\n",
              " 'contract': 488,\n",
              " 'asked': 489,\n",
              " 'systems': 490,\n",
              " 'statements': 491,\n",
              " 'notice': 492,\n",
              " 'getting': 493,\n",
              " 'network': 494,\n",
              " 'until': 495,\n",
              " 'bank': 496,\n",
              " 'sorry': 497,\n",
              " 'related': 498,\n",
              " 'area': 499,\n",
              " 'keep': 500,\n",
              " 'seminar': 501,\n",
              " 'level': 502,\n",
              " 'telephone': 503,\n",
              " 'event': 504,\n",
              " 'ena': 505,\n",
              " 'january': 506,\n",
              " 'done': 507,\n",
              " 'computer': 508,\n",
              " 'board': 509,\n",
              " 'save': 510,\n",
              " 'point': 511,\n",
              " 'operations': 512,\n",
              " 'capital': 513,\n",
              " 'volatility': 514,\n",
              " 'curves': 515,\n",
              " 'complete': 516,\n",
              " 'respond': 517,\n",
              " 'america': 518,\n",
              " 'valuation': 519,\n",
              " 'opportunities': 520,\n",
              " 'needs': 521,\n",
              " 'lu': 522,\n",
              " 'around': 523,\n",
              " 'room': 524,\n",
              " 'customers': 525,\n",
              " 'dale': 526,\n",
              " 'wish': 527,\n",
              " 'application': 528,\n",
              " 'response': 529,\n",
              " 'once': 530,\n",
              " 'k': 531,\n",
              " 'own': 532,\n",
              " 'either': 533,\n",
              " 'read': 534,\n",
              " 'approval': 535,\n",
              " 'sales': 536,\n",
              " 'times': 537,\n",
              " 'employee': 538,\n",
              " 'continue': 539,\n",
              " 'lot': 540,\n",
              " 'hours': 541,\n",
              " 'via': 542,\n",
              " 'de': 543,\n",
              " 'open': 544,\n",
              " 'coming': 545,\n",
              " 'roberts': 546,\n",
              " 'mseb': 547,\n",
              " 'november': 548,\n",
              " 'join': 549,\n",
              " 'every': 550,\n",
              " 'wanted': 551,\n",
              " 'international': 552,\n",
              " 'bring': 553,\n",
              " 'moore': 554,\n",
              " 'pay': 555,\n",
              " 'down': 556,\n",
              " 'having': 557,\n",
              " 'vkamins': 558,\n",
              " 'richard': 559,\n",
              " 'molly': 560,\n",
              " 'return': 561,\n",
              " 'aol': 562,\n",
              " 'understand': 563,\n",
              " 'positions': 564,\n",
              " 'storage': 565,\n",
              " 'dates': 566,\n",
              " 'making': 567,\n",
              " 'chris': 568,\n",
              " 'whether': 569,\n",
              " 'february': 570,\n",
              " 'success': 571,\n",
              " 'analyst': 572,\n",
              " 'link': 573,\n",
              " 'general': 574,\n",
              " 'tomorrow': 575,\n",
              " 'specific': 576,\n",
              " 'run': 577,\n",
              " 'smith': 578,\n",
              " 'yet': 579,\n",
              " 'offers': 580,\n",
              " 'vice': 581,\n",
              " 'discussion': 582,\n",
              " 'ebs': 583,\n",
              " 'street': 584,\n",
              " 'capacity': 585,\n",
              " 'search': 586,\n",
              " 'natural': 587,\n",
              " 'paul': 588,\n",
              " 'october': 589,\n",
              " 'key': 590,\n",
              " 'hotel': 591,\n",
              " 'afternoon': 592,\n",
              " 'potential': 593,\n",
              " 'kind': 594,\n",
              " 'class': 595,\n",
              " 'doing': 596,\n",
              " 'box': 597,\n",
              " 'professional': 598,\n",
              " 'something': 599,\n",
              " 'desk': 600,\n",
              " 'tom': 601,\n",
              " 'trade': 602,\n",
              " 'second': 603,\n",
              " 'student': 604,\n",
              " 'shanbhogue': 605,\n",
              " 'sending': 606,\n",
              " 'non': 607,\n",
              " 'insurance': 608,\n",
              " 'eb': 609,\n",
              " 'berkeley': 610,\n",
              " 'wrote': 611,\n",
              " 'jones': 612,\n",
              " 'modeling': 613,\n",
              " 'august': 614,\n",
              " 'public': 615,\n",
              " 'page': 616,\n",
              " 'fact': 617,\n",
              " 'increase': 618,\n",
              " 'india': 619,\n",
              " 'employees': 620,\n",
              " 'invitation': 621,\n",
              " 'alex': 622,\n",
              " 'maureen': 623,\n",
              " 'letter': 624,\n",
              " 'got': 625,\n",
              " 'graduate': 626,\n",
              " 'europe': 627,\n",
              " 'probably': 628,\n",
              " 'become': 629,\n",
              " 'hearing': 630,\n",
              " 'transaction': 631,\n",
              " 'immediately': 632,\n",
              " 'code': 633,\n",
              " 'speaker': 634,\n",
              " 'content': 635,\n",
              " 'top': 636,\n",
              " 'final': 637,\n",
              " 'participation': 638,\n",
              " 'scheduled': 639,\n",
              " 'portfolio': 640,\n",
              " 'ready': 641,\n",
              " 'mentioned': 642,\n",
              " 'question': 643,\n",
              " 'later': 644,\n",
              " 'committee': 645,\n",
              " 'jim': 646,\n",
              " 'problems': 647,\n",
              " 'provided': 648,\n",
              " 'design': 649,\n",
              " 'everyone': 650,\n",
              " 'mailto': 651,\n",
              " 'period': 652,\n",
              " 'tel': 653,\n",
              " 'view': 654,\n",
              " 'requested': 655,\n",
              " 'say': 656,\n",
              " 'patrick': 657,\n",
              " 'european': 658,\n",
              " 'enronxgate': 659,\n",
              " 'study': 660,\n",
              " 'taking': 661,\n",
              " 'standard': 662,\n",
              " 'numbers': 663,\n",
              " 'anything': 664,\n",
              " 'mailing': 665,\n",
              " 'confidential': 666,\n",
              " 'ca': 667,\n",
              " 'present': 668,\n",
              " 'works': 669,\n",
              " 'purchase': 670,\n",
              " 'limited': 671,\n",
              " 'others': 672,\n",
              " 'basis': 673,\n",
              " 'industrial': 674,\n",
              " 'ravi': 675,\n",
              " 'effort': 676,\n",
              " 'training': 677,\n",
              " 'austin': 678,\n",
              " 'amount': 679,\n",
              " 'past': 680,\n",
              " 'database': 681,\n",
              " 'trip': 682,\n",
              " 'contracts': 683,\n",
              " 'listed': 684,\n",
              " 'candidate': 685,\n",
              " 'julie': 686,\n",
              " 'ferc': 687,\n",
              " 'demand': 688,\n",
              " 'someone': 689,\n",
              " 'legal': 690,\n",
              " 'firm': 691,\n",
              " 'supply': 692,\n",
              " 'early': 693,\n",
              " 'glad': 694,\n",
              " 'rates': 695,\n",
              " 'speak': 696,\n",
              " 'yes': 697,\n",
              " 'programs': 698,\n",
              " 'fyi': 699,\n",
              " 'terms': 700,\n",
              " 'steven': 701,\n",
              " 'bill': 702,\n",
              " 'h': 703,\n",
              " 'american': 704,\n",
              " 'org': 705,\n",
              " 'allow': 706,\n",
              " 'anyone': 707,\n",
              " 'executive': 708,\n",
              " 'rac': 709,\n",
              " 'lng': 710,\n",
              " 'securities': 711,\n",
              " 'direct': 712,\n",
              " 'article': 713,\n",
              " 'invite': 714,\n",
              " 'location': 715,\n",
              " 'upon': 716,\n",
              " 'skills': 717,\n",
              " 'write': 718,\n",
              " 'building': 719,\n",
              " 'vacation': 720,\n",
              " 'oct': 721,\n",
              " 'efforts': 722,\n",
              " 'f': 723,\n",
              " 'discussed': 724,\n",
              " 'minutes': 725,\n",
              " 'less': 726,\n",
              " 'required': 727,\n",
              " 'reports': 728,\n",
              " 'floor': 729,\n",
              " 'mack': 730,\n",
              " 'recent': 731,\n",
              " 'daily': 732,\n",
              " 'left': 733,\n",
              " 'else': 734,\n",
              " 'along': 735,\n",
              " 'country': 736,\n",
              " 'major': 737,\n",
              " 'assistant': 738,\n",
              " 'recruiting': 739,\n",
              " 'states': 740,\n",
              " 'focus': 741,\n",
              " 'income': 742,\n",
              " 'fw': 743,\n",
              " 'addition': 744,\n",
              " 'series': 745,\n",
              " 'recently': 746,\n",
              " 'ph': 747,\n",
              " 'told': 748,\n",
              " 'act': 749,\n",
              " 'status': 750,\n",
              " 'control': 751,\n",
              " 'private': 752,\n",
              " 'far': 753,\n",
              " 'unit': 754,\n",
              " 'held': 755,\n",
              " 'yesterday': 756,\n",
              " 'pjm': 757,\n",
              " 'card': 758,\n",
              " 'latest': 759,\n",
              " 'directly': 760,\n",
              " 'password': 761,\n",
              " 'suggested': 762,\n",
              " 'cover': 763,\n",
              " 'submit': 764,\n",
              " 'transfer': 765,\n",
              " 'involved': 766,\n",
              " 'upenn': 767,\n",
              " 'senior': 768,\n",
              " 'agenda': 769,\n",
              " 'policy': 770,\n",
              " 'transmission': 771,\n",
              " 'easy': 772,\n",
              " 'idea': 773,\n",
              " 'masson': 774,\n",
              " 'logo': 775,\n",
              " 'cash': 776,\n",
              " 'found': 777,\n",
              " 'ms': 778,\n",
              " 'approach': 779,\n",
              " 'expected': 780,\n",
              " 'requirements': 781,\n",
              " 'session': 782,\n",
              " 'september': 783,\n",
              " 'associates': 784,\n",
              " 'events': 785,\n",
              " 'cannot': 786,\n",
              " 'develop': 787,\n",
              " 'groups': 788,\n",
              " 'role': 789,\n",
              " 'draft': 790,\n",
              " 'organization': 791,\n",
              " 'necessary': 792,\n",
              " 'welcome': 793,\n",
              " 'personal': 794,\n",
              " 'create': 795,\n",
              " 'never': 796,\n",
              " 'completed': 797,\n",
              " 'remove': 798,\n",
              " 'st': 799,\n",
              " 'confirm': 800,\n",
              " 'et': 801,\n",
              " 'sell': 802,\n",
              " 'newsletter': 803,\n",
              " 'planning': 804,\n",
              " 'names': 805,\n",
              " 'tamarchenko': 806,\n",
              " 'seems': 807,\n",
              " 'cell': 808,\n",
              " 'interviews': 809,\n",
              " 'effective': 810,\n",
              " 'assets': 811,\n",
              " 'always': 812,\n",
              " 'chairman': 813,\n",
              " 'dollars': 814,\n",
              " 'license': 815,\n",
              " 'delivery': 816,\n",
              " 'nd': 817,\n",
              " 'example': 818,\n",
              " 'chapter': 819,\n",
              " 'saturday': 820,\n",
              " 'big': 821,\n",
              " 'commercial': 822,\n",
              " 'responsible': 823,\n",
              " 'longer': 824,\n",
              " 'production': 825,\n",
              " 'hear': 826,\n",
              " 'earlier': 827,\n",
              " 'average': 828,\n",
              " 'yahoo': 829,\n",
              " 'thought': 830,\n",
              " 'staff': 831,\n",
              " 'sandeep': 832,\n",
              " 'talking': 833,\n",
              " 'electric': 834,\n",
              " 'costs': 835,\n",
              " 'brown': 836,\n",
              " 'applications': 837,\n",
              " 'learn': 838,\n",
              " 'participate': 839,\n",
              " 'download': 840,\n",
              " 'quite': 841,\n",
              " 'hard': 842,\n",
              " 'receiving': 843,\n",
              " 'away': 844,\n",
              " 'billion': 845,\n",
              " 'large': 846,\n",
              " 'low': 847,\n",
              " 'york': 848,\n",
              " 'scott': 849,\n",
              " 'tell': 850,\n",
              " 'result': 851,\n",
              " 'resource': 852,\n",
              " 'fast': 853,\n",
              " 'copies': 854,\n",
              " 'generation': 855,\n",
              " 'mind': 856,\n",
              " 'assistance': 857,\n",
              " 'section': 858,\n",
              " 'trying': 859,\n",
              " 'share': 860,\n",
              " 'presentations': 861,\n",
              " 'summary': 862,\n",
              " 'mba': 863,\n",
              " 'kim': 864,\n",
              " 'small': 865,\n",
              " 'included': 866,\n",
              " 'little': 867,\n",
              " 'least': 868,\n",
              " 'ok': 869,\n",
              " 'needed': 870,\n",
              " 'users': 871,\n",
              " 'interesting': 872,\n",
              " 'meetings': 873,\n",
              " 'leave': 874,\n",
              " 'hr': 875,\n",
              " 'answer': 876,\n",
              " 'n': 877,\n",
              " 'payment': 878,\n",
              " 'weekend': 879,\n",
              " 'rick': 880,\n",
              " 'sources': 881,\n",
              " 'feb': 882,\n",
              " 'ability': 883,\n",
              " 'addresses': 884,\n",
              " 'field': 885,\n",
              " 'wholesale': 886,\n",
              " 'james': 887,\n",
              " 'tools': 888,\n",
              " 'hour': 889,\n",
              " 'paulo': 890,\n",
              " 'structure': 891,\n",
              " 'why': 892,\n",
              " 'add': 893,\n",
              " 'spreadsheet': 894,\n",
              " 'participants': 895,\n",
              " 'bob': 896,\n",
              " 'remember': 897,\n",
              " 'thing': 898,\n",
              " 'significant': 899,\n",
              " 'called': 900,\n",
              " 'head': 901,\n",
              " 'krishnarao': 902,\n",
              " 'prior': 903,\n",
              " 'member': 904,\n",
              " 'plans': 905,\n",
              " 'fuel': 906,\n",
              " 'growth': 907,\n",
              " 'media': 908,\n",
              " 'step': 909,\n",
              " 'notes': 910,\n",
              " 'raymond': 911,\n",
              " 'exchange': 912,\n",
              " 'party': 913,\n",
              " 'ben': 914,\n",
              " 'show': 915,\n",
              " 'title': 916,\n",
              " 'distribution': 917,\n",
              " 'likely': 918,\n",
              " 'understanding': 919,\n",
              " 'anita': 920,\n",
              " 'pdf': 921,\n",
              " 'family': 922,\n",
              " 'nice': 923,\n",
              " 'chair': 924,\n",
              " 'plant': 925,\n",
              " 'historical': 926,\n",
              " 'charge': 927,\n",
              " 'stephen': 928,\n",
              " 'error': 929,\n",
              " 'tony': 930,\n",
              " 'ken': 931,\n",
              " 'joe': 932,\n",
              " 'vincent': 933,\n",
              " 'internship': 934,\n",
              " 'discussions': 935,\n",
              " 'among': 936,\n",
              " 'commodity': 937,\n",
              " 'fit': 938,\n",
              " 'client': 939,\n",
              " 'confirmation': 940,\n",
              " 'side': 941,\n",
              " 'clear': 942,\n",
              " 'tax': 943,\n",
              " 'appropriate': 944,\n",
              " 'paid': 945,\n",
              " 'mean': 946,\n",
              " 'visa': 947,\n",
              " 'ago': 948,\n",
              " 'factors': 949,\n",
              " 'corporation': 950,\n",
              " 'bit': 951,\n",
              " 'stay': 952,\n",
              " 'leppard': 953,\n",
              " 'providing': 954,\n",
              " 'viagra': 955,\n",
              " 'pro': 956,\n",
              " 'simply': 957,\n",
              " 'successful': 958,\n",
              " 'begin': 959,\n",
              " 'evening': 960,\n",
              " 'dabhol': 961,\n",
              " 'approved': 962,\n",
              " 'material': 963,\n",
              " 'removed': 964,\n",
              " 'makes': 965,\n",
              " 'robert': 966,\n",
              " 'nick': 967,\n",
              " 'operating': 968,\n",
              " 'leading': 969,\n",
              " 'looks': 970,\n",
              " 'electronic': 971,\n",
              " 'main': 972,\n",
              " 'individual': 973,\n",
              " 'late': 974,\n",
              " 'therefore': 975,\n",
              " 'maharashtra': 976,\n",
              " 'positive': 977,\n",
              " 'test': 978,\n",
              " 'close': 979,\n",
              " 'strong': 980,\n",
              " 'voice': 981,\n",
              " 'chance': 982,\n",
              " 'arrange': 983,\n",
              " 'developed': 984,\n",
              " 'orders': 985,\n",
              " 'package': 986,\n",
              " 'developing': 987,\n",
              " 'jul': 988,\n",
              " 'couple': 989,\n",
              " 'points': 990,\n",
              " 'mid': 991,\n",
              " 'utilities': 992,\n",
              " 'dept': 993,\n",
              " 'shmuel': 994,\n",
              " 'transactions': 995,\n",
              " 'unsubscribe': 996,\n",
              " 'expect': 997,\n",
              " 'proposed': 998,\n",
              " 'matter': 999,\n",
              " 'iso': 1000,\n",
              " ...}"
            ]
          },
          "metadata": {
            "tags": []
          },
          "execution_count": 17
        }
      ]
    },
    {
      "cell_type": "markdown",
      "metadata": {
        "id": "YF5uLALb2u6L",
        "colab_type": "text"
      },
      "source": [
        "<h3> Pad sequence to keep constant length </h3>"
      ]
    },
    {
      "cell_type": "code",
      "metadata": {
        "id": "lv_MZxyD2oQX",
        "colab_type": "code",
        "outputId": "9d524306-fc3b-46e9-aff7-6e00d8c28aea",
        "colab": {
          "base_uri": "https://localhost:8080/",
          "height": 139
        }
      },
      "source": [
        "# Set maximum sequence length to 500 to speed up training\n",
        "MAX_SEQUENCE_LENGTH = 500\n",
        "\n",
        "data = pad_sequences(sequences, maxlen = MAX_SEQUENCE_LENGTH)\n",
        "data"
      ],
      "execution_count": 0,
      "outputs": [
        {
          "output_type": "execute_result",
          "data": {
            "text/plain": [
              "array([[   0,    0,    0, ...,  640,   38,  187],\n",
              "       [   0,    0,    0, ..., 3784, 7573,   98],\n",
              "       [   0,    0,    0, ...,  630,   25,    6],\n",
              "       ...,\n",
              "       [   0,    0,    0, ..., 1720,  261,  411],\n",
              "       [   0,    0,    0, ...,  252,   21,   37],\n",
              "       [   0,    0,    0, ..., 3689,  470,  251]], dtype=int32)"
            ]
          },
          "metadata": {
            "tags": []
          },
          "execution_count": 18
        }
      ]
    },
    {
      "cell_type": "markdown",
      "metadata": {
        "id": "IrvQmgPs43Wz",
        "colab_type": "text"
      },
      "source": [
        "<h3> Split data into train and test sets </h3>"
      ]
    },
    {
      "cell_type": "code",
      "metadata": {
        "id": "B0564dAP56DU",
        "colab_type": "code",
        "colab": {}
      },
      "source": [
        "x_train, x_test, y_train, y_test = train_test_split(data, df['spam'], test_size= 0.3, random_state=42)"
      ],
      "execution_count": 0,
      "outputs": []
    },
    {
      "cell_type": "code",
      "metadata": {
        "id": "9JUp08Px2fr8",
        "colab_type": "code",
        "outputId": "23508934-45fc-479e-9939-79e37a74860a",
        "colab": {
          "base_uri": "https://localhost:8080/",
          "height": 139
        }
      },
      "source": [
        "x_train"
      ],
      "execution_count": 0,
      "outputs": [
        {
          "output_type": "execute_result",
          "data": {
            "text/plain": [
              "array([[    0,     0,     0, ...,  3015,    12,    33],\n",
              "       [    2,   219,   304, ...,  1354,     2,   403],\n",
              "       [    0,     0,     0, ...,  1237,    55,    92],\n",
              "       ...,\n",
              "       [    0,     0,     0, ...,     1,  2188,    21],\n",
              "       [    0,     0,     0, ..., 10670,  2869,   251],\n",
              "       [    0,     0,     0, ...,     6,    38,   187]], dtype=int32)"
            ]
          },
          "metadata": {
            "tags": []
          },
          "execution_count": 20
        }
      ]
    },
    {
      "cell_type": "code",
      "metadata": {
        "id": "wQg02UpZ_WAJ",
        "colab_type": "code",
        "colab": {}
      },
      "source": [
        "# One hot encode y_train and y_test data\n",
        "y_train_1h = to_categorical(y_train)\n",
        "y_test_1h = to_categorical(y_test)"
      ],
      "execution_count": 0,
      "outputs": []
    },
    {
      "cell_type": "code",
      "metadata": {
        "id": "07OnxbOVAE8A",
        "colab_type": "code",
        "outputId": "b3a73a7c-292a-4bb2-ad06-8095e9bc9a06",
        "colab": {
          "base_uri": "https://localhost:8080/",
          "height": 139
        }
      },
      "source": [
        "y_train_1h"
      ],
      "execution_count": 0,
      "outputs": [
        {
          "output_type": "execute_result",
          "data": {
            "text/plain": [
              "array([[1., 0.],\n",
              "       [1., 0.],\n",
              "       [1., 0.],\n",
              "       ...,\n",
              "       [1., 0.],\n",
              "       [1., 0.],\n",
              "       [0., 1.]], dtype=float32)"
            ]
          },
          "metadata": {
            "tags": []
          },
          "execution_count": 22
        }
      ]
    },
    {
      "cell_type": "markdown",
      "metadata": {
        "id": "Ztqx9iv76yNf",
        "colab_type": "text"
      },
      "source": [
        "<h2> Modelling </h2>\n",
        "<h3> Create embedding layer </h3>"
      ]
    },
    {
      "cell_type": "code",
      "metadata": {
        "id": "gNuVDOkU2fwS",
        "colab_type": "code",
        "colab": {}
      },
      "source": [
        "EMBEDDING_DIM = 100\n",
        "\n",
        "# Prepare embedding matrix for embedding layer\n",
        "num_words = min(MAX_NUM_WORDS, len(word_index)) + 1\n",
        "embedding_matrix = np.zeros((num_words, EMBEDDING_DIM))\n",
        "\n",
        "for word, i in word_index.items():\n",
        "    if i > MAX_NUM_WORDS:\n",
        "        continue\n",
        "    embedding_vector = embeddings_index.get(word)\n",
        "    if embedding_vector is not None:\n",
        "        # words not found in embedding index will be all-zeros.\n",
        "        embedding_matrix[i] = embedding_vector\n",
        "\n",
        "# load pre-trained word embeddings into an Embedding layer\n",
        "# note that we set trainable = False so as to keep the embeddings fixed\n",
        "embedding_layer = Embedding(num_words,\n",
        "                            EMBEDDING_DIM,\n",
        "                            embeddings_initializer=Constant(embedding_matrix),\n",
        "                            input_length=MAX_SEQUENCE_LENGTH,\n",
        "                            trainable=False)"
      ],
      "execution_count": 0,
      "outputs": []
    },
    {
      "cell_type": "markdown",
      "metadata": {
        "id": "bh9gWrlx7bc8",
        "colab_type": "text"
      },
      "source": [
        "<h3> Define the model </h3>"
      ]
    },
    {
      "cell_type": "code",
      "metadata": {
        "id": "IMGf7i5W2f1u",
        "colab_type": "code",
        "colab": {}
      },
      "source": [
        "# Number of classes: spam and ham (2)\n",
        "NUM_CLASSES = 2\n",
        "\n",
        "# Preparing the layers\n",
        "sequence_input = Input(shape=(MAX_SEQUENCE_LENGTH,), dtype='int32')\n",
        "embedded_sequences = embedding_layer(sequence_input)\n",
        "x = LSTM(128)(embedded_sequences)\n",
        "preds = Dense(NUM_CLASSES, activation='softmax')(x)"
      ],
      "execution_count": 0,
      "outputs": []
    },
    {
      "cell_type": "code",
      "metadata": {
        "id": "zyGkfwW787o2",
        "colab_type": "code",
        "colab": {}
      },
      "source": [
        "# Building the model\n",
        "model = Model(sequence_input, preds)"
      ],
      "execution_count": 0,
      "outputs": []
    },
    {
      "cell_type": "code",
      "metadata": {
        "id": "f9Qs8Xcv88bo",
        "colab_type": "code",
        "outputId": "20746730-5b75-4e00-f663-9736bd6581b8",
        "colab": {
          "base_uri": "https://localhost:8080/",
          "height": 295
        }
      },
      "source": [
        "model.summary()"
      ],
      "execution_count": 0,
      "outputs": [
        {
          "output_type": "stream",
          "text": [
            "Model: \"model_4\"\n",
            "_________________________________________________________________\n",
            "Layer (type)                 Output Shape              Param #   \n",
            "=================================================================\n",
            "input_4 (InputLayer)         [(None, 500)]             0         \n",
            "_________________________________________________________________\n",
            "embedding (Embedding)        (None, 500, 100)          2000100   \n",
            "_________________________________________________________________\n",
            "lstm_3 (LSTM)                (None, 128)               117248    \n",
            "_________________________________________________________________\n",
            "dense_4 (Dense)              (None, 2)                 258       \n",
            "=================================================================\n",
            "Total params: 2,117,606\n",
            "Trainable params: 117,506\n",
            "Non-trainable params: 2,000,100\n",
            "_________________________________________________________________\n"
          ],
          "name": "stdout"
        }
      ]
    },
    {
      "cell_type": "markdown",
      "metadata": {
        "id": "wKLr7ZpB9KY7",
        "colab_type": "text"
      },
      "source": [
        "<h3> Compile the model </h3>"
      ]
    },
    {
      "cell_type": "code",
      "metadata": {
        "id": "qwOqNXHq9KCl",
        "colab_type": "code",
        "colab": {}
      },
      "source": [
        "model.compile(loss='categorical_crossentropy',\n",
        "              optimizer='rmsprop',\n",
        "              metrics=['acc'])"
      ],
      "execution_count": 0,
      "outputs": []
    },
    {
      "cell_type": "code",
      "metadata": {
        "id": "1IhqwcxZ9OkU",
        "colab_type": "code",
        "outputId": "05faa9cf-596d-4df6-fde7-55d6730b652b",
        "colab": {
          "base_uri": "https://localhost:8080/",
          "height": 419
        }
      },
      "source": [
        "model.fit(x_train, y_train_1h,\n",
        "          batch_size=128,\n",
        "          epochs=10,\n",
        "          validation_data=(x_test, y_test_1h))"
      ],
      "execution_count": 0,
      "outputs": [
        {
          "output_type": "stream",
          "text": [
            "Train on 4009 samples, validate on 1719 samples\n",
            "Epoch 1/10\n",
            "4009/4009 [==============================] - 19s 5ms/sample - loss: 0.3920 - acc: 0.8204 - val_loss: 0.3005 - val_acc: 0.8999\n",
            "Epoch 2/10\n",
            "4009/4009 [==============================] - 18s 5ms/sample - loss: 0.2628 - acc: 0.8955 - val_loss: 0.2306 - val_acc: 0.9075\n",
            "Epoch 3/10\n",
            "4009/4009 [==============================] - 18s 5ms/sample - loss: 0.1936 - acc: 0.9239 - val_loss: 0.1948 - val_acc: 0.9267\n",
            "Epoch 4/10\n",
            "4009/4009 [==============================] - 18s 5ms/sample - loss: 0.1628 - acc: 0.9356 - val_loss: 0.1212 - val_acc: 0.9558\n",
            "Epoch 5/10\n",
            "4009/4009 [==============================] - 18s 5ms/sample - loss: 0.1399 - acc: 0.9444 - val_loss: 0.1238 - val_acc: 0.9546\n",
            "Epoch 6/10\n",
            "4009/4009 [==============================] - 18s 5ms/sample - loss: 0.1083 - acc: 0.9603 - val_loss: 0.1228 - val_acc: 0.9540\n",
            "Epoch 7/10\n",
            "4009/4009 [==============================] - 18s 5ms/sample - loss: 0.0979 - acc: 0.9638 - val_loss: 0.1098 - val_acc: 0.9616\n",
            "Epoch 8/10\n",
            "4009/4009 [==============================] - 18s 5ms/sample - loss: 0.0925 - acc: 0.9641 - val_loss: 0.0870 - val_acc: 0.9709\n",
            "Epoch 9/10\n",
            "4009/4009 [==============================] - 18s 5ms/sample - loss: 0.0793 - acc: 0.9716 - val_loss: 0.0995 - val_acc: 0.9610\n",
            "Epoch 10/10\n",
            "4009/4009 [==============================] - 18s 5ms/sample - loss: 0.0669 - acc: 0.9743 - val_loss: 0.1688 - val_acc: 0.9389\n"
          ],
          "name": "stdout"
        },
        {
          "output_type": "execute_result",
          "data": {
            "text/plain": [
              "<tensorflow.python.keras.callbacks.History at 0x7f3cd543e240>"
            ]
          },
          "metadata": {
            "tags": []
          },
          "execution_count": 61
        }
      ]
    },
    {
      "cell_type": "markdown",
      "metadata": {
        "id": "RbHAOtkTEcrE",
        "colab_type": "text"
      },
      "source": [
        "<h3> Model Evaluation </h3>"
      ]
    },
    {
      "cell_type": "code",
      "metadata": {
        "id": "zOzbuPyrEemo",
        "colab_type": "code",
        "outputId": "f66505c3-0521-4c58-aa7e-6168a703aee5",
        "colab": {
          "base_uri": "https://localhost:8080/",
          "height": 52
        }
      },
      "source": [
        "score = model.evaluate(x_test, y_test_1h, verbose=0)\n",
        "print('Test loss:', score[0])\n",
        "print('Test accuracy:', score[1])"
      ],
      "execution_count": 0,
      "outputs": [
        {
          "output_type": "stream",
          "text": [
            "Test loss: 0.10849065432859202\n",
            "Test accuracy: 0.95578825\n"
          ],
          "name": "stdout"
        }
      ]
    },
    {
      "cell_type": "markdown",
      "metadata": {
        "id": "6VqP-zkVDdo3",
        "colab_type": "text"
      },
      "source": [
        "<h3> Prediction Results </h3>"
      ]
    },
    {
      "cell_type": "code",
      "metadata": {
        "id": "X0c2eBUTDgVM",
        "colab_type": "code",
        "colab": {}
      },
      "source": [
        "# Get predicted probability of being in spam or ham\n",
        "results = model.predict_on_batch(x_test)"
      ],
      "execution_count": 0,
      "outputs": []
    },
    {
      "cell_type": "code",
      "metadata": {
        "id": "6nlHV2ZvD5y-",
        "colab_type": "code",
        "outputId": "972b5fb1-ff3d-432e-fcd4-06064f42cf9e",
        "colab": {
          "base_uri": "https://localhost:8080/",
          "height": 35
        }
      },
      "source": [
        "# Take the max to get the results\n",
        "np.argmax(results, axis=1)"
      ],
      "execution_count": 0,
      "outputs": [
        {
          "output_type": "execute_result",
          "data": {
            "text/plain": [
              "array([0, 0, 0, ..., 1, 1, 0])"
            ]
          },
          "metadata": {
            "tags": []
          },
          "execution_count": 65
        }
      ]
    },
    {
      "cell_type": "markdown",
      "metadata": {
        "id": "3sLur7q1Hdzk",
        "colab_type": "text"
      },
      "source": [
        "<h3> Save Model </h3>"
      ]
    },
    {
      "cell_type": "code",
      "metadata": {
        "id": "7Fp0DVAbHqZU",
        "colab_type": "code",
        "colab": {}
      },
      "source": [
        "model.save_weights('email_classifier_weights.h5')"
      ],
      "execution_count": 0,
      "outputs": []
    },
    {
      "cell_type": "code",
      "metadata": {
        "id": "o7hEWOx4H1XD",
        "colab_type": "code",
        "colab": {}
      },
      "source": [
        "model.save('./email_classifier_model.h5')"
      ],
      "execution_count": 0,
      "outputs": []
    }
  ]
}